{
 "cells": [
  {
   "cell_type": "code",
   "execution_count": 1,
   "id": "5d5df196-e807-4a4c-807d-3bd86fac9c58",
   "metadata": {},
   "outputs": [
    {
     "name": "stdout",
     "output_type": "stream",
     "text": [
      "<class 'pandas.core.frame.DataFrame'>\n",
      "RangeIndex: 200000 entries, 0 to 199999\n",
      "Data columns (total 9 columns):\n",
      " #   Column             Non-Null Count   Dtype  \n",
      "---  ------             --------------   -----  \n",
      " 0   Unnamed: 0         200000 non-null  int64  \n",
      " 1   key                200000 non-null  object \n",
      " 2   fare_amount        200000 non-null  float64\n",
      " 3   pickup_datetime    200000 non-null  object \n",
      " 4   pickup_longitude   200000 non-null  float64\n",
      " 5   pickup_latitude    200000 non-null  float64\n",
      " 6   dropoff_longitude  199999 non-null  float64\n",
      " 7   dropoff_latitude   199999 non-null  float64\n",
      " 8   passenger_count    200000 non-null  int64  \n",
      "dtypes: float64(5), int64(2), object(2)\n",
      "memory usage: 13.7+ MB\n",
      "<class 'pandas.core.frame.DataFrame'>\n",
      "RangeIndex: 200000 entries, 0 to 199999\n",
      "Data columns (total 9 columns):\n",
      " #   Column             Non-Null Count   Dtype              \n",
      "---  ------             --------------   -----              \n",
      " 0   Unnamed: 0         200000 non-null  int64              \n",
      " 1   key                200000 non-null  object             \n",
      " 2   fare_amount        200000 non-null  float64            \n",
      " 3   pickup_datetime    200000 non-null  datetime64[ns, UTC]\n",
      " 4   pickup_longitude   200000 non-null  float64            \n",
      " 5   pickup_latitude    200000 non-null  float64            \n",
      " 6   dropoff_longitude  199999 non-null  float64            \n",
      " 7   dropoff_latitude   199999 non-null  float64            \n",
      " 8   passenger_count    200000 non-null  int64              \n",
      "dtypes: datetime64[ns, UTC](1), float64(5), int64(2), object(1)\n",
      "memory usage: 13.7+ MB\n",
      "x shape: (194911, 1)\n",
      "y shape: (194911,)\n",
      "RMSE error for the model is  8.04322245620495\n",
      "RMSE value for Random Forest is: 9.765811747032485\n"
     ]
    },
    {
     "data": {
      "image/png": "[encoded data removed]",
      "text/plain": [
       "<Figure size 640x480 with 1 Axes>"
      ]
     },
     "metadata": {},
     "output_type": "display_data"
    }
   ],
   "source": [
    "import pandas as pd\n",
    "import numpy as np\n",
    "import matplotlib.pyplot as plt\n",
    "from sklearn.model_selection import train_test_split\n",
    "from sklearn.linear_model import LinearRegression\n",
    "from sklearn.ensemble import RandomForestRegressor\n",
    "from sklearn.metrics import r2_score, mean_squared_error\n",
    "\n",
    "data = pd.read_csv('/home/vishal/Documents/datasets/uber.csv')\n",
    "\n",
    "df = data.copy()\n",
    "\n",
    "df.head()\n",
    "df.info()\n",
    "df[\"pickup_datetime\"] = pd.to_datetime(df[\"pickup_datetime\"])\n",
    "df.info()\n",
    "df.describe()\n",
    "df.isnull().sum()\n",
    "df.corr\n",
    "df.dropna(inplace=True)\n",
    "df.isnull().sum()\n",
    "\n",
    "plt.boxplot(df[\"fare_amount\"])\n",
    "df.describe()\n",
    "\n",
    "q_low = df[\"fare_amount\"].quantile(0.01)\n",
    "q_hi = df[\"fare_amount\"].quantile(0.99)\n",
    "df = df[(df[\"fare_amount\"] < q_hi) & (df[\"fare_amount\"] > q_low)]\n",
    "df.isnull().sum()\n",
    "\n",
    "x = df.drop(\"fare_amount\", axis=1)\n",
    "y = df[\"fare_amount\"]\n",
    "\n",
    "x[\"pickup_datetime\"] = pd.to_numeric(pd.to_datetime(x[\"pickup_datetime\"]))\n",
    "x = x.loc[:, x.columns.str.contains(\"^Unnamed\")]\n",
    "\n",
    "print(\"x shape:\", x.shape)\n",
    "print(\"y shape:\", y.shape)\n",
    "\n",
    "df.describe()\n",
    "\n",
    "x_train, x_test, y_train, y_test = train_test_split(x, y, test_size=0.3, random_state=2)\n",
    "\n",
    "lrmodel = LinearRegression()\n",
    "lrmodel.fit(x_train, y_train)\n",
    "\n",
    "y_pred = lrmodel.predict(x_test)\n",
    "y_pred\n",
    "\n",
    "lrmodelrmse = np.sqrt(mean_squared_error(y_pred, y_test))\n",
    "print(\"RMSE error for the model is \", lrmodelrmse)\n",
    "\n",
    "rfrmodel = RandomForestRegressor(n_estimators=100, random_state=101)\n",
    "rfrmodel.fit(x_train, y_train)\n",
    "\n",
    "rfry_pred = rfrmodel.predict(x_test)\n",
    "rfry_pred\n",
    "\n",
    "rfrmodel_rmse = np.sqrt(mean_squared_error(rfry_pred, y_test))\n",
    "print(\"RMSE value for Random Forest is:\", rfrmodel_rmse)\n"
   ]
  },
  {
   "cell_type": "code",
   "execution_count": null,
   "id": "c090b27a-3ed9-4439-8e6f-6fc576adce54",
   "metadata": {},
   "outputs": [],
   "source": []
  }
 ],
 "metadata": {
  "kernelspec": {
   "display_name": "Python 3 (ipykernel)",
   "language": "python",
   "name": "python3"
  },
  "language_info": {
   "codemirror_mode": {
    "name": "ipython",
    "version": 3
   },
   "file_extension": ".py",
   "mimetype": "text/x-python",
   "name": "python",
   "nbconvert_exporter": "python",
   "pygments_lexer": "ipython3",
   "version": "3.10.12"
  }
 },
 "nbformat": 4,
 "nbformat_minor": 5
}
